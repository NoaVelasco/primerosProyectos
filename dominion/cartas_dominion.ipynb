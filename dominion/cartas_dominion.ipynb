{
 "cells": [
  {
   "cell_type": "markdown",
   "metadata": {},
   "source": [
    "# Seleccionador de cartas Dominion\n",
    "\n",
    "Mi primer reto es averiguar cómo debería almacenar los datos de las cartas. Podría hacer una lista, sencillamente, y que el programa genere una lista aleatoria a partir de sus elementos. Pero más adelante tengo la intención de afinar el código para evitar que salgan muchas cartas de coste elevado o que falten cartas potentes. Por lo tanto, me interesa almacenar la información de alguna manera que me permita llamar a los elementos por su coste. \n",
    "\n",
    "De momento voy a hacer una tupla de los nombres. Luego puedo empaquetarlos en coste. Y de ahí... ya veremos.  \n",
    "\n",
    "2 (3)\n",
    "Capilla\n",
    "Foso\n",
    "Sótano\n",
    "\n",
    "3 (4)\n",
    "Aldea\n",
    "Canciller\n",
    "Leñadores\n",
    "Taller\n",
    "\n",
    "4 (10)\n",
    "Banquete\n",
    "Burócrata\n",
    "Espía\n",
    "Herrería\n",
    "Jardines\n",
    "Ladrón\n",
    "Milicia\n",
    "Prestamista\n",
    "Remodelar\n",
    "Salón del Trono\n",
    "\n",
    "5 (7)\n",
    "Biblioteca\n",
    "Bruja\n",
    "Festival\n",
    "Laboratorio\n",
    "Mercado\n",
    "Mina\n",
    "Sala del Consejo\n",
    "\n",
    "6 (1)\n",
    "Aventurero\n",
    "\n"
   ]
  },
  {
   "cell_type": "code",
   "execution_count": 15,
   "metadata": {},
   "outputs": [
    {
     "name": "stdout",
     "output_type": "stream",
     "text": [
      "Jardines\n",
      "Festival\n",
      "Sótano\n",
      "Salón del Trono\n",
      "Remodelar\n",
      "Prestamista\n",
      "Banquete\n",
      "Mercado\n",
      "Sala del Consejo\n",
      "Aldea\n"
     ]
    }
   ],
   "source": [
    "from random import randint\n",
    "\n",
    "tuplaCartas = (\n",
    "    \"Capilla\",\n",
    "    \"Foso\",\n",
    "    \"Sótano\",\n",
    "    \"Aldea\",\n",
    "    \"Canciller\",\n",
    "    \"Leñadores\",\n",
    "    \"Taller\",\n",
    "    \"Banquete\",\n",
    "    \"Burócrata\",\n",
    "    \"Espía\",\n",
    "    \"Herrería\",\n",
    "    \"Jardines\",\n",
    "    \"Ladrón\",\n",
    "    \"Milicia\",\n",
    "    \"Prestamista\",\n",
    "    \"Remodelar\",\n",
    "    \"Salón del Trono\",\n",
    "    \"Biblioteca\",\n",
    "    \"Bruja\",\n",
    "    \"Festival\",\n",
    "    \"Laboratorio\",\n",
    "    \"Mercado\",\n",
    "    \"Mina\",\n",
    "    \"Sala del Consejo\",\n",
    "    \"Aventurero\"\n",
    ")\n",
    "\n",
    "listaCartas=list(tuplaCartas)\n",
    "numCartas=0\n",
    "while numCartas < 10:\n",
    "    indexrand = randint(0, int(len(listaCartas)))\n",
    "    print(listaCartas[indexrand])\n",
    "    listaCartas.pop(indexrand)\n",
    "    numCartas+=1\n",
    "    "
   ]
  }
 ],
 "metadata": {
  "interpreter": {
   "hash": "70807c458cb79526e58bd7650fcaa45a7eca9b73b92f10a18efc123baaaec859"
  },
  "kernelspec": {
   "display_name": "Python 3.10.2 64-bit",
   "language": "python",
   "name": "python3"
  },
  "language_info": {
   "codemirror_mode": {
    "name": "ipython",
    "version": 3
   },
   "file_extension": ".py",
   "mimetype": "text/x-python",
   "name": "python",
   "nbconvert_exporter": "python",
   "pygments_lexer": "ipython3",
   "version": "3.10.2"
  },
  "orig_nbformat": 4
 },
 "nbformat": 4,
 "nbformat_minor": 2
}
